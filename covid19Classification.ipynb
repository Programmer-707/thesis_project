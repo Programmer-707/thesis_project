{
  "cells": [
    {
      "cell_type": "code",
      "execution_count": 1,
      "metadata": {
        "id": "IE7c5A5tMgv-"
      },
      "outputs": [],
      "source": [
        "import numpy as np\n",
        "import pandas as pd\n",
        "import os\n",
        "import PIL\n",
        "import cv2\n",
        "import tensorflow as tf\n",
        "from tensorflow import keras\n",
        "from tensorflow.keras.optimizers import Adam\n",
        "from tensorflow.keras.preprocessing.image import ImageDataGenerator\n",
        "from tensorflow.keras.preprocessing.image import load_img\n",
        "import matplotlib.pyplot as plt\n",
        "from matplotlib.pyplot import imshow\n",
        "from sklearn.model_selection import train_test_split\n",
        "import matplotlib.pyplot as plt\n",
        "from matplotlib.pyplot import imshow\n",
        "from sklearn.utils import resample\n",
        "from sklearn.utils import shuffle\n",
        "import shutil\n",
        "from sklearn.metrics import confusion_matrix, classification_report"
      ]
    },
    {
      "cell_type": "code",
      "execution_count": 2,
      "metadata": {
        "id": "oeB12WCrNQ9_"
      },
      "outputs": [],
      "source": [
        "# we added the separation and header because the data is not organized, one can run without sep and header\n",
        "#to understand the difference\n",
        "\n",
        "train_df = pd.read_csv('./train.txt', sep=\" \", header=None)\n",
        "\n",
        "#Columns are added because it was seen that column names were 0,1,2,3, so new column names are added\n",
        "#which are given in descriptions\n",
        "train_df.columns=['patient id', 'filename', 'class', 'data source']\n",
        "\n",
        "# Since we are doing image classification, patient id and data source is of no importance to us, so\n",
        "#we can drop them\n",
        "train_df=train_df.drop(['patient id', 'data source'], axis=1 )"
      ]
    },
    {
      "cell_type": "code",
      "execution_count": 330,
      "metadata": {
        "id": "KIKRvSUKUxNp"
      },
      "outputs": [],
      "source": [
        "#same as train\n",
        "test_df = pd.read_csv('./test.txt', sep=\" \", header=None)\n",
        "test_df.columns=['id', 'filename', 'class', 'data source' ]\n",
        "test_df=test_df.drop(['id', 'data source'], axis=1 )"
      ]
    },
    {
      "cell_type": "code",
      "execution_count": 197,
      "metadata": {
        "colab": {
          "base_uri": "https://localhost:8080/",
          "height": 206
        },
        "id": "M0IKps8dVMa8",
        "outputId": "d4fe5e16-0fbb-4431-9f87-1f42d6a63b92"
      },
      "outputs": [
        {
          "data": {
            "text/html": [
              "<div>\n",
              "<style scoped>\n",
              "    .dataframe tbody tr th:only-of-type {\n",
              "        vertical-align: middle;\n",
              "    }\n",
              "\n",
              "    .dataframe tbody tr th {\n",
              "        vertical-align: top;\n",
              "    }\n",
              "\n",
              "    .dataframe thead th {\n",
              "        text-align: right;\n",
              "    }\n",
              "</style>\n",
              "<table border=\"1\" class=\"dataframe\">\n",
              "  <thead>\n",
              "    <tr style=\"text-align: right;\">\n",
              "      <th></th>\n",
              "      <th>filename</th>\n",
              "      <th>class</th>\n",
              "    </tr>\n",
              "  </thead>\n",
              "  <tbody>\n",
              "    <tr>\n",
              "      <th>0</th>\n",
              "      <td>MIDRC-RICORD-1C-419639-003251-46647-0.png</td>\n",
              "      <td>positive</td>\n",
              "    </tr>\n",
              "    <tr>\n",
              "      <th>1</th>\n",
              "      <td>MIDRC-RICORD-1C-419639-001464-39871-0.png</td>\n",
              "      <td>positive</td>\n",
              "    </tr>\n",
              "    <tr>\n",
              "      <th>2</th>\n",
              "      <td>MIDRC-RICORD-1C-419639-000918-78965-0.png</td>\n",
              "      <td>positive</td>\n",
              "    </tr>\n",
              "    <tr>\n",
              "      <th>3</th>\n",
              "      <td>MIDRC-RICORD-1C-419639-003318-64285-0.png</td>\n",
              "      <td>positive</td>\n",
              "    </tr>\n",
              "    <tr>\n",
              "      <th>4</th>\n",
              "      <td>MIDRC-RICORD-1C-419639-001015-81591-0.png</td>\n",
              "      <td>positive</td>\n",
              "    </tr>\n",
              "  </tbody>\n",
              "</table>\n",
              "</div>"
            ],
            "text/plain": [
              "                                    filename     class\n",
              "0  MIDRC-RICORD-1C-419639-003251-46647-0.png  positive\n",
              "1  MIDRC-RICORD-1C-419639-001464-39871-0.png  positive\n",
              "2  MIDRC-RICORD-1C-419639-000918-78965-0.png  positive\n",
              "3  MIDRC-RICORD-1C-419639-003318-64285-0.png  positive\n",
              "4  MIDRC-RICORD-1C-419639-001015-81591-0.png  positive"
            ]
          },
          "execution_count": 197,
          "metadata": {},
          "output_type": "execute_result"
        }
      ],
      "source": [
        "test_df.head()#see the first 5 columns for test"
      ]
    },
    {
      "cell_type": "code",
      "execution_count": 198,
      "metadata": {
        "id": "XXC9xayXVX2J"
      },
      "outputs": [],
      "source": [
        "train_path = 'C:/Users/abduv/Downloads/covid19_data/train/'  #directory path\n",
        "test_path = 'C:/Users/abduv/Downloads/covid19_data/test/'"
      ]
    },
    {
      "cell_type": "code",
      "execution_count": 199,
      "metadata": {
        "colab": {
          "base_uri": "https://localhost:8080/"
        },
        "id": "bmxf0ckTVdLz",
        "outputId": "d130ff76-ccd6-4697-d776-e27acb74f439"
      },
      "outputs": [
        {
          "data": {
            "text/plain": [
              "positive    15994\n",
              "negative    13992\n",
              "Name: class, dtype: int64"
            ]
          },
          "execution_count": 199,
          "metadata": {},
          "output_type": "execute_result"
        }
      ],
      "source": [
        "train_df['class'].value_counts()"
      ]
    },
    {
      "cell_type": "code",
      "execution_count": 200,
      "metadata": {
        "id": "Bj8qL2H0VkSV"
      },
      "outputs": [],
      "source": [
        "negative  = train_df[train_df['class']=='negative']   #negative values in class column\n",
        "positive = train_df[train_df['class']=='positive']  #positive values in class column\n",
        "\n",
        "#majority class that  is negative, we need to downsample/decrease that class so that there is no bias\n",
        "#n_samples = 10000 means we want 10000 sample of class negative, since there are 10000 samples of class positive\n",
        "df_majority_downsampled_neg = resample(negative, replace = True, n_samples = 10000)\n",
        "df_majority_downsampled_pos = resample(positive, replace = True, n_samples = 10000)\n",
        "#concatenate\n",
        "train_df = pd.concat([df_majority_downsampled_pos, df_majority_downsampled_neg])\n",
        "\n",
        "train_df = shuffle(train_df) # shuffling so that there is particular sequence"
      ]
    },
    {
      "cell_type": "code",
      "execution_count": 201,
      "metadata": {
        "colab": {
          "base_uri": "https://localhost:8080/"
        },
        "id": "h8Lp9wMhV2ek",
        "outputId": "ba701086-b1a7-4b92-f93d-ae87438c4f73"
      },
      "outputs": [
        {
          "data": {
            "text/plain": [
              "positive    10000\n",
              "negative    10000\n",
              "Name: class, dtype: int64"
            ]
          },
          "execution_count": 201,
          "metadata": {},
          "output_type": "execute_result"
        }
      ],
      "source": [
        "train_df['class'].value_counts()"
      ]
    },
    {
      "cell_type": "code",
      "execution_count": 202,
      "metadata": {
        "id": "7pc-MKgwV9co"
      },
      "outputs": [],
      "source": [
        "train_df, valid_df = train_test_split(train_df, train_size=0.8, random_state=0)"
      ]
    },
    {
      "cell_type": "code",
      "execution_count": 203,
      "metadata": {
        "colab": {
          "base_uri": "https://localhost:8080/"
        },
        "id": "191kfxFiWCYa",
        "outputId": "d7e03892-f47d-411c-bb8f-9a8666c8776a"
      },
      "outputs": [
        {
          "name": "stdout",
          "output_type": "stream",
          "text": [
            "Negative and positive values of train: positive    8040\n",
            "negative    7960\n",
            "Name: class, dtype: int64\n",
            "Negative and positive values of validation: negative    2040\n",
            "positive    1960\n",
            "Name: class, dtype: int64\n",
            "Negative and positive values of test: positive    200\n",
            "negative    200\n",
            "Name: class, dtype: int64\n"
          ]
        }
      ],
      "source": [
        "#Let's see how many images for training and validation and testing\n",
        "print(f\"Negative and positive values of train: {train_df['class'].value_counts()}\")\n",
        "print(f\"Negative and positive values of validation: {valid_df['class'].value_counts()}\")\n",
        "print(f\"Negative and positive values of test: {test_df['class'].value_counts()}\")"
      ]
    },
    {
      "cell_type": "code",
      "execution_count": 204,
      "metadata": {
        "colab": {
          "base_uri": "https://localhost:8080/"
        },
        "id": "fxve2pa6W8yG",
        "outputId": "6a54695f-2f5f-4604-e517-20bf9c5f534f"
      },
      "outputs": [
        {
          "name": "stdout",
          "output_type": "stream",
          "text": [
            "Found 16000 validated image filenames belonging to 2 classes.\n",
            "Found 4000 validated image filenames belonging to 2 classes.\n",
            "Found 400 validated image filenames belonging to 2 classes.\n"
          ]
        }
      ],
      "source": [
        "#Let's start the modelling task\n",
        "#ImageDataGenerator lets you augment your images in real-time while your model is still training! \n",
        "#You can apply any random transformations on each training image as it is passed to the model. \n",
        "#This will not only make your model robust but will also save up on the overhead memory!\n",
        "\n",
        "\n",
        "#We will apply the Image Data Generator on training with various parameters, but we won't apply \n",
        "#the same parameters on testin. Why?\n",
        "# Because we want the test iamges as it is, we don't want biasedness,\n",
        "#also if we fit it we will be applying\n",
        "# the model only on these test images only, it can't predict new images if fed into model\n",
        "#Because new images will not be augmented this way\n",
        "\n",
        "\n",
        "train_datagen = ImageDataGenerator(rescale = 1./255.,rotation_range = 40, width_shift_range = 0.2, height_shift_range = 0.2, \n",
        "                                   shear_range = 0.2, zoom_range = 0.2, horizontal_flip = True, vertical_flip =True)\n",
        "test_datagen = ImageDataGenerator(rescale = 1.0/255.)\n",
        "\n",
        "#Now fit the them to get the images from directory (name of the images are given in dataframe) with augmentation\n",
        "\n",
        "\n",
        "train_gen = train_datagen.flow_from_dataframe(dataframe = train_df, directory=train_path, x_col='filename', \n",
        "                                              y_col='class', target_size=(200,200), batch_size=64, \n",
        "                                               class_mode='binary')\n",
        "valid_gen = test_datagen.flow_from_dataframe(dataframe = valid_df, directory=train_path, x_col='filename',\n",
        "                                             y_col='class', target_size=(200,200), batch_size=64, \n",
        "                                            class_mode='binary')\n",
        "test_gen = test_datagen.flow_from_dataframe(dataframe = test_df, directory=test_path, x_col='filename', \n",
        "                                            y_col='class', target_size=(200,200), batch_size=64,\n",
        "                                             class_mode='binary')\n",
        "#class mode binary because we want the classifier to predict covid or not\n",
        "#target size (200,200) means we want the images to resized to 200*200"
      ]
    },
    {
      "cell_type": "code",
      "execution_count": 205,
      "metadata": {
        "colab": {
          "base_uri": "https://localhost:8080/"
        },
        "id": "VY_qAas_XWwL",
        "outputId": "1f0ebcb9-9d75-4bce-8a76-90a5e160e146"
      },
      "outputs": [],
      "source": [
        "import tensorflow as tf\n",
        "#Our base model is InceptionResNetV2, new readers are encouraged to see the architecture of this particular model\n",
        "\n",
        "base_model = tf.keras.applications.DenseNet201(weights='imagenet', input_shape = (200,200,3),\n",
        "                                                     include_top=False)\n",
        "for layer in base_model.layers:\n",
        "    layer.trainable = False"
      ]
    },
    {
      "cell_type": "code",
      "execution_count": 206,
      "metadata": {
        "id": "0XbOcndBblbz"
      },
      "outputs": [],
      "source": [
        "#Now we will add some more layers to the base model for our requirements\n",
        "\n",
        "model = tf.keras.Sequential([\n",
        "    base_model, \n",
        "    tf.keras.layers.GlobalAveragePooling2D(), \n",
        "    tf.keras.layers.Dense(128, activation='relu'),\n",
        "    tf.keras.layers.BatchNormalization(), \n",
        "    tf.keras.layers.Dropout(0.2), \n",
        "    tf.keras.layers.Dense(1, activation='sigmoid')\n",
        "])\n",
        "\n",
        "callbacks = [\n",
        "    tf.keras.callbacks.ModelCheckpoint(\"ResNet50V2.h5\", save_best_only=True, verbose = 0),\n",
        "    tf.keras.callbacks.EarlyStopping(patience=3, monitor='val_loss', verbose=1),\n",
        "    tf.keras.callbacks.ReduceLROnPlateau(monitor='val_loss', factor=0.5, patience=2, verbose=1)\n",
        "]\n",
        "\n",
        "model.compile(optimizer = keras.optimizers.Adam(learning_rate=0.001),\n",
        "              loss = 'binary_crossentropy',\n",
        "              metrics=['accuracy'])"
      ]
    },
    {
      "cell_type": "code",
      "execution_count": 207,
      "metadata": {
        "colab": {
          "base_uri": "https://localhost:8080/",
          "height": 380
        },
        "id": "yDJ_Bgh9bo9b",
        "outputId": "a90cc015-c157-4fcc-f89c-dd8ebd40a27b"
      },
      "outputs": [
        {
          "name": "stdout",
          "output_type": "stream",
          "text": [
            "Epoch 1/20\n",
            "250/250 [==============================] - 1259s 5s/step - loss: 0.2790 - accuracy: 0.8864 - val_loss: 0.3468 - val_accuracy: 0.8438 - lr: 0.0010\n",
            "Epoch 2/20\n",
            "250/250 [==============================] - 1308s 5s/step - loss: 0.2371 - accuracy: 0.9048 - val_loss: 0.4943 - val_accuracy: 0.7862 - lr: 0.0010\n",
            "Epoch 3/20\n",
            "250/250 [==============================] - 1130s 5s/step - loss: 0.2245 - accuracy: 0.9104 - val_loss: 0.3209 - val_accuracy: 0.8622 - lr: 0.0010\n",
            "Epoch 4/20\n",
            "250/250 [==============================] - 1095s 4s/step - loss: 0.2201 - accuracy: 0.9139 - val_loss: 0.2744 - val_accuracy: 0.8863 - lr: 0.0010\n",
            "Epoch 5/20\n",
            "250/250 [==============================] - 1076s 4s/step - loss: 0.2097 - accuracy: 0.9144 - val_loss: 0.1955 - val_accuracy: 0.9255 - lr: 0.0010\n",
            "Epoch 6/20\n",
            "250/250 [==============================] - 1116s 4s/step - loss: 0.2135 - accuracy: 0.9157 - val_loss: 0.3161 - val_accuracy: 0.8733 - lr: 0.0010\n",
            "Epoch 7/20\n",
            "250/250 [==============================] - ETA: 0s - loss: 0.2094 - accuracy: 0.9174\n",
            "Epoch 7: ReduceLROnPlateau reducing learning rate to 0.0005000000237487257.\n",
            "250/250 [==============================] - 1076s 4s/step - loss: 0.2094 - accuracy: 0.9174 - val_loss: 0.2539 - val_accuracy: 0.8982 - lr: 0.0010\n",
            "Epoch 8/20\n",
            "250/250 [==============================] - 1108s 4s/step - loss: 0.1967 - accuracy: 0.9254 - val_loss: 0.2316 - val_accuracy: 0.9050 - lr: 5.0000e-04\n",
            "Epoch 8: early stopping\n"
          ]
        }
      ],
      "source": [
        "history = model.fit(train_gen, \n",
        "                    validation_data=valid_gen, epochs=20, \n",
        "                    callbacks=[callbacks])"
      ]
    },
    {
      "cell_type": "code",
      "execution_count": 208,
      "metadata": {
        "colab": {
          "base_uri": "https://localhost:8080/",
          "height": 449
        },
        "id": "H2BUzHcabxLU",
        "outputId": "57cad552-5e3b-491c-e4ed-640ea7e2e7de"
      },
      "outputs": [
        {
          "name": "stdout",
          "output_type": "stream",
          "text": [
            "7/7 [==============================] - 34s 5s/step - loss: 0.2457 - accuracy: 0.8875\n"
          ]
        },
        {
          "data": {
            "text/plain": [
              "[0.2456853985786438, 0.887499988079071]"
            ]
          },
          "execution_count": 208,
          "metadata": {},
          "output_type": "execute_result"
        }
      ],
      "source": [
        "model.load_weights('./ResNet50V2.h5')\n",
        "model.evaluate(test_gen)"
      ]
    },
    {
      "cell_type": "code",
      "execution_count": 46,
      "metadata": {
        "colab": {
          "base_uri": "https://localhost:8080/",
          "height": 36
        },
        "id": "jVQrF5nY7L95",
        "outputId": "b4619fc9-0629-4f80-edcc-c070e3b36a58"
      },
      "outputs": [
        {
          "data": {
            "text/plain": [
              "'C:/Users/abduv/Downloads/covid19_data/train'"
            ]
          },
          "execution_count": 46,
          "metadata": {},
          "output_type": "execute_result"
        }
      ],
      "source": [
        "os.path.dirname(train_path)"
      ]
    },
    {
      "cell_type": "code",
      "execution_count": 209,
      "metadata": {},
      "outputs": [
        {
          "data": {
            "image/png": "[encoded data removed]",
            "text/plain": [
              "<Figure size 432x288 with 1 Axes>"
            ]
          },
          "metadata": {
            "needs_background": "light"
          },
          "output_type": "display_data"
        }
      ],
      "source": [
        "plt.plot(history.history['accuracy'],label='Training accuracy')\n",
        "plt.plot(history.history['val_accuracy'], label=\"val acc\")\n",
        "plt.xlabel('epochs')\n",
        "plt.ylabel('accuracy')\n",
        "plt.legend()\n",
        "plt.show()"
      ]
    },
    {
      "cell_type": "code",
      "execution_count": 210,
      "metadata": {},
      "outputs": [
        {
          "data": {
            "image/png": "[encoded data removed]",
            "text/plain": [
              "<Figure size 432x288 with 1 Axes>"
            ]
          },
          "metadata": {
            "needs_background": "light"
          },
          "output_type": "display_data"
        }
      ],
      "source": [
        "plt.plot(history.history['loss'],label='Training loss')\n",
        "plt.plot(history.history['val_loss'], label=\"val loss\")\n",
        "plt.xlabel('epochs')\n",
        "plt.ylabel('loss')\n",
        "plt.legend()\n",
        "plt.show()"
      ]
    },
    {
      "cell_type": "code",
      "execution_count": 236,
      "metadata": {},
      "outputs": [
        {
          "name": "stdout",
          "output_type": "stream",
          "text": [
            "1/1 [==============================] - 0s 119ms/step\n",
            "1/1 [==============================] - 0s 118ms/step\n",
            "argmax: [0]\n",
            "origin: [[0.03353984]]\n",
            "grt 0.5: 1\n"
          ]
        }
      ],
      "source": [
        "image = load_img( test_path+'MIDRC-RICORD-1C-SITE2-000098-66227-0.png',target_size=(200,200,3))\n",
        "img= np.array(image)\n",
        "img = img.reshape(1,200,200,3)\n",
        "label = model.predict(img)\n",
        "result = np.argmax(label, axis=1)\n",
        "# result3 = (model.predict(img) > 0.00005 ? 1 : 0).astype(\"int32\")\n",
        "if (model.predict(img) > 0.001):\n",
        "    result3 = 1 \n",
        "else: result3 = 0\n",
        "print(f\"argmax: {result}\")\n",
        "print(f\"origin: {label}\")\n",
        "print(f\"grt 0.5: {result3}\")"
      ]
    },
    {
      "cell_type": "code",
      "execution_count": 212,
      "metadata": {},
      "outputs": [
        {
          "data": {
            "text/plain": [
              "{'negative': 0, 'positive': 1}"
            ]
          },
          "execution_count": 212,
          "metadata": {},
          "output_type": "execute_result"
        }
      ],
      "source": [
        "train_gen.class_indices"
      ]
    },
    {
      "cell_type": "code",
      "execution_count": 233,
      "metadata": {},
      "outputs": [
        {
          "data": {
            "text/html": [
              "<div>\n",
              "<style scoped>\n",
              "    .dataframe tbody tr th:only-of-type {\n",
              "        vertical-align: middle;\n",
              "    }\n",
              "\n",
              "    .dataframe tbody tr th {\n",
              "        vertical-align: top;\n",
              "    }\n",
              "\n",
              "    .dataframe thead th {\n",
              "        text-align: right;\n",
              "    }\n",
              "</style>\n",
              "<table border=\"1\" class=\"dataframe\">\n",
              "  <thead>\n",
              "    <tr style=\"text-align: right;\">\n",
              "      <th></th>\n",
              "      <th>filename</th>\n",
              "      <th>class</th>\n",
              "    </tr>\n",
              "  </thead>\n",
              "  <tbody>\n",
              "    <tr>\n",
              "      <th>11</th>\n",
              "      <td>MIDRC-RICORD-1C-419639-000025-50888-0.png</td>\n",
              "      <td>positive</td>\n",
              "    </tr>\n",
              "    <tr>\n",
              "      <th>232</th>\n",
              "      <td>bb068d57-86a8-4347-bee0-e29d59ddef6b.png</td>\n",
              "      <td>negative</td>\n",
              "    </tr>\n",
              "    <tr>\n",
              "      <th>145</th>\n",
              "      <td>MIDRC-RICORD-1C-SITE2-000098-66227-0.png</td>\n",
              "      <td>positive</td>\n",
              "    </tr>\n",
              "  </tbody>\n",
              "</table>\n",
              "</div>"
            ],
            "text/plain": [
              "                                      filename     class\n",
              "11   MIDRC-RICORD-1C-419639-000025-50888-0.png  positive\n",
              "232   bb068d57-86a8-4347-bee0-e29d59ddef6b.png  negative\n",
              "145   MIDRC-RICORD-1C-SITE2-000098-66227-0.png  positive"
            ]
          },
          "execution_count": 233,
          "metadata": {},
          "output_type": "execute_result"
        }
      ],
      "source": [
        "test_df.sample(3)"
      ]
    },
    {
      "cell_type": "code",
      "execution_count": 237,
      "metadata": {},
      "outputs": [],
      "source": [
        "# DENSENET201\n",
        "\n",
        "pretrained_densenet = tf.keras.applications.DenseNet201(weights='imagenet', input_shape = (200,200,3),\n",
        "                                                     include_top=False)\n",
        "\n",
        "for layer in pretrained_densenet.layers:\n",
        "    layer.trainable = False"
      ]
    },
    {
      "cell_type": "code",
      "execution_count": 238,
      "metadata": {},
      "outputs": [],
      "source": [
        "model2 = tf.keras.Sequential([\n",
        "    pretrained_densenet, \n",
        "    tf.keras.layers.GlobalAveragePooling2D(), \n",
        "    tf.keras.layers.Dense(128, activation='relu'),\n",
        "    tf.keras.layers.BatchNormalization(), \n",
        "    tf.keras.layers.Dropout(0.2), \n",
        "    tf.keras.layers.Dense(1, activation='sigmoid')\n",
        "])\n",
        "\n",
        "callbacks = [\n",
        "    tf.keras.callbacks.ModelCheckpoint(\"DenseNet201.h5\", save_best_only=True, verbose = 0),\n",
        "    tf.keras.callbacks.EarlyStopping(patience=3, monitor='val_loss', verbose=1),\n",
        "    tf.keras.callbacks.ReduceLROnPlateau(monitor='val_loss', factor=0.5, patience=2, verbose=1)\n",
        "]\n",
        "\n",
        "model2.compile(optimizer = keras.optimizers.Adam(learning_rate=0.001),\n",
        "              loss = 'binary_crossentropy',\n",
        "              metrics=['accuracy'])"
      ]
    },
    {
      "cell_type": "code",
      "execution_count": 239,
      "metadata": {},
      "outputs": [
        {
          "name": "stdout",
          "output_type": "stream",
          "text": [
            "Epoch 1/20\n",
            "250/250 [==============================] - 1089s 4s/step - loss: 0.2776 - accuracy: 0.8886 - val_loss: 0.4189 - val_accuracy: 0.8125 - lr: 0.0010\n",
            "Epoch 2/20\n",
            "250/250 [==============================] - 1071s 4s/step - loss: 0.2365 - accuracy: 0.9043 - val_loss: 0.2816 - val_accuracy: 0.8813 - lr: 0.0010\n",
            "Epoch 3/20\n",
            "250/250 [==============================] - 1098s 4s/step - loss: 0.2256 - accuracy: 0.9077 - val_loss: 0.2521 - val_accuracy: 0.8975 - lr: 0.0010\n",
            "Epoch 4/20\n",
            "250/250 [==============================] - 1067s 4s/step - loss: 0.2138 - accuracy: 0.9160 - val_loss: 0.2232 - val_accuracy: 0.9128 - lr: 0.0010\n",
            "Epoch 5/20\n",
            "250/250 [==============================] - 1154s 5s/step - loss: 0.2083 - accuracy: 0.9177 - val_loss: 0.3050 - val_accuracy: 0.8658 - lr: 0.0010\n",
            "Epoch 6/20\n",
            "250/250 [==============================] - ETA: 0s - loss: 0.2104 - accuracy: 0.9197\n",
            "Epoch 6: ReduceLROnPlateau reducing learning rate to 0.0005000000237487257.\n",
            "250/250 [==============================] - 1106s 4s/step - loss: 0.2104 - accuracy: 0.9197 - val_loss: 0.4432 - val_accuracy: 0.8213 - lr: 0.0010\n",
            "Epoch 7/20\n",
            "250/250 [==============================] - 1077s 4s/step - loss: 0.2021 - accuracy: 0.9207 - val_loss: 0.3318 - val_accuracy: 0.8702 - lr: 5.0000e-04\n",
            "Epoch 7: early stopping\n"
          ]
        }
      ],
      "source": [
        "history2 = model2.fit(train_gen, \n",
        "                    validation_data=valid_gen, epochs=20, \n",
        "                    callbacks=[callbacks])"
      ]
    },
    {
      "cell_type": "code",
      "execution_count": 240,
      "metadata": {},
      "outputs": [
        {
          "data": {
            "image/png": "[encoded data removed]",
            "text/plain": [
              "<Figure size 432x288 with 1 Axes>"
            ]
          },
          "metadata": {
            "needs_background": "light"
          },
          "output_type": "display_data"
        }
      ],
      "source": [
        "plt.plot(history2.history['accuracy'],label='Training accuracy')\n",
        "plt.plot(history2.history['val_accuracy'], label=\"val acc\")\n",
        "plt.xlabel('epochs')\n",
        "plt.ylabel('accuracy')\n",
        "plt.legend()\n",
        "plt.show()"
      ]
    },
    {
      "cell_type": "code",
      "execution_count": 241,
      "metadata": {},
      "outputs": [
        {
          "data": {
            "image/png": "[encoded data removed]",
            "text/plain": [
              "<Figure size 432x288 with 1 Axes>"
            ]
          },
          "metadata": {
            "needs_background": "light"
          },
          "output_type": "display_data"
        }
      ],
      "source": [
        "plt.plot(history2.history['loss'],label='Training loss')\n",
        "plt.plot(history2.history['val_loss'], label=\"val loss\")\n",
        "plt.xlabel('epochs')\n",
        "plt.ylabel('loss')\n",
        "plt.legend()\n",
        "plt.show()"
      ]
    },
    {
      "cell_type": "code",
      "execution_count": 242,
      "metadata": {},
      "outputs": [
        {
          "name": "stdout",
          "output_type": "stream",
          "text": [
            "7/7 [==============================] - 34s 5s/step - loss: 0.3822 - accuracy: 0.8225\n"
          ]
        },
        {
          "data": {
            "text/plain": [
              "[0.3822437524795532, 0.8224999904632568]"
            ]
          },
          "execution_count": 242,
          "metadata": {},
          "output_type": "execute_result"
        }
      ],
      "source": [
        "model2.load_weights('./DenseNet201.h5')\n",
        "model2.evaluate(test_gen)"
      ]
    },
    {
      "cell_type": "code",
      "execution_count": 266,
      "metadata": {},
      "outputs": [
        {
          "name": "stdout",
          "output_type": "stream",
          "text": [
            "1/1 [==============================] - 0s 124ms/step\n",
            "1/1 [==============================] - 0s 126ms/step\n",
            "argmax: [0]\n",
            "origin: [[0.99888647]]\n",
            "grt 0.5: [[1]]\n"
          ]
        }
      ],
      "source": [
        "from tensorflow.keras.preprocessing.image import load_img\n",
        "image = load_img( test_path+'MIDRC-RICORD-1C-419639-000025-39552-1.png',target_size=(200,200,3))\n",
        "img= np.array(image)\n",
        "img = img.reshape(1,200,200,3)\n",
        "label = model2.predict(img)\n",
        "result = np.argmax(label, axis=1)\n",
        "result3 = (model2.predict(img) > 0.5).astype(\"int32\")\n",
        "print(f\"argmax: {result}\")\n",
        "print(f\"origin: {label}\")\n",
        "print(f\"grt 0.5: {result3}\")"
      ]
    },
    {
      "cell_type": "code",
      "execution_count": 264,
      "metadata": {},
      "outputs": [
        {
          "data": {
            "text/html": [
              "<div>\n",
              "<style scoped>\n",
              "    .dataframe tbody tr th:only-of-type {\n",
              "        vertical-align: middle;\n",
              "    }\n",
              "\n",
              "    .dataframe tbody tr th {\n",
              "        vertical-align: top;\n",
              "    }\n",
              "\n",
              "    .dataframe thead th {\n",
              "        text-align: right;\n",
              "    }\n",
              "</style>\n",
              "<table border=\"1\" class=\"dataframe\">\n",
              "  <thead>\n",
              "    <tr style=\"text-align: right;\">\n",
              "      <th></th>\n",
              "      <th>filename</th>\n",
              "      <th>class</th>\n",
              "    </tr>\n",
              "  </thead>\n",
              "  <tbody>\n",
              "    <tr>\n",
              "      <th>325</th>\n",
              "      <td>ac648f87-a79f-4ce0-9439-23a8dd886b71.png</td>\n",
              "      <td>negative</td>\n",
              "    </tr>\n",
              "    <tr>\n",
              "      <th>41</th>\n",
              "      <td>MIDRC-RICORD-1C-419639-001735-74702-0.png</td>\n",
              "      <td>positive</td>\n",
              "    </tr>\n",
              "    <tr>\n",
              "      <th>112</th>\n",
              "      <td>MIDRC-RICORD-1C-419639-000025-39552-1.png</td>\n",
              "      <td>positive</td>\n",
              "    </tr>\n",
              "  </tbody>\n",
              "</table>\n",
              "</div>"
            ],
            "text/plain": [
              "                                      filename     class\n",
              "325   ac648f87-a79f-4ce0-9439-23a8dd886b71.png  negative\n",
              "41   MIDRC-RICORD-1C-419639-001735-74702-0.png  positive\n",
              "112  MIDRC-RICORD-1C-419639-000025-39552-1.png  positive"
            ]
          },
          "execution_count": 264,
          "metadata": {},
          "output_type": "execute_result"
        }
      ],
      "source": [
        "test_df.sample(3)"
      ]
    },
    {
      "cell_type": "code",
      "execution_count": 267,
      "metadata": {},
      "outputs": [
        {
          "name": "stdout",
          "output_type": "stream",
          "text": [
            "Downloading data from https://storage.googleapis.com/tensorflow/keras-applications/vgg16/vgg16_weights_tf_dim_ordering_tf_kernels_notop.h5\n",
            "58889256/58889256 [==============================] - 1s 0us/step\n"
          ]
        }
      ],
      "source": [
        "#VGG\n",
        "\n",
        "pretrained_vgg = tf.keras.applications.VGG16(weights='imagenet', input_shape = (200,200,3),\n",
        "                                                     include_top=False)\n",
        "\n",
        "for layer in pretrained_vgg.layers:\n",
        "    layer.trainable = False"
      ]
    },
    {
      "cell_type": "code",
      "execution_count": 268,
      "metadata": {},
      "outputs": [],
      "source": [
        "#VGG\n",
        "#Now we will add some more layers to the base model for our requirements\n",
        "\n",
        "model3 = tf.keras.Sequential([\n",
        "    pretrained_vgg, \n",
        "    tf.keras.layers.GlobalAveragePooling2D(), \n",
        "    tf.keras.layers.Dense(128, activation='relu'),\n",
        "    tf.keras.layers.BatchNormalization(), \n",
        "    tf.keras.layers.Dropout(0.2), \n",
        "    tf.keras.layers.Dense(1, activation='sigmoid')\n",
        "])\n",
        "\n",
        "callbacks = [\n",
        "    tf.keras.callbacks.ModelCheckpoint(\"vggClassifier.h5\", save_best_only=True, verbose = 0),\n",
        "    tf.keras.callbacks.EarlyStopping(patience=3, monitor='val_loss', verbose=1),\n",
        "    tf.keras.callbacks.ReduceLROnPlateau(monitor='val_loss', factor=0.5, patience=2, verbose=1)\n",
        "]\n",
        "\n",
        "model3.compile(optimizer = keras.optimizers.Adam(learning_rate=0.001),\n",
        "              loss = 'binary_crossentropy',\n",
        "              metrics=['accuracy'])"
      ]
    },
    {
      "cell_type": "code",
      "execution_count": 269,
      "metadata": {},
      "outputs": [
        {
          "name": "stdout",
          "output_type": "stream",
          "text": [
            "Epoch 1/20\n",
            "250/250 [==============================] - 1121s 4s/step - loss: 0.3376 - accuracy: 0.8505 - val_loss: 0.3484 - val_accuracy: 0.8555 - lr: 0.0010\n",
            "Epoch 2/20\n",
            "250/250 [==============================] - 1081s 4s/step - loss: 0.2968 - accuracy: 0.8754 - val_loss: 0.2957 - val_accuracy: 0.8727 - lr: 0.0010\n",
            "Epoch 3/20\n",
            "250/250 [==============================] - 1080s 4s/step - loss: 0.2955 - accuracy: 0.8737 - val_loss: 0.2216 - val_accuracy: 0.9187 - lr: 0.0010\n",
            "Epoch 4/20\n",
            "250/250 [==============================] - 1076s 4s/step - loss: 0.2884 - accuracy: 0.8789 - val_loss: 0.2159 - val_accuracy: 0.9227 - lr: 0.0010\n",
            "Epoch 5/20\n",
            "250/250 [==============================] - 1079s 4s/step - loss: 0.2863 - accuracy: 0.8818 - val_loss: 0.2137 - val_accuracy: 0.9210 - lr: 0.0010\n",
            "Epoch 6/20\n",
            "250/250 [==============================] - 1076s 4s/step - loss: 0.2795 - accuracy: 0.8813 - val_loss: 0.4654 - val_accuracy: 0.7908 - lr: 0.0010\n",
            "Epoch 7/20\n",
            "250/250 [==============================] - ETA: 0s - loss: 0.2805 - accuracy: 0.8812\n",
            "Epoch 7: ReduceLROnPlateau reducing learning rate to 0.0005000000237487257.\n",
            "250/250 [==============================] - 1084s 4s/step - loss: 0.2805 - accuracy: 0.8812 - val_loss: 0.2290 - val_accuracy: 0.9097 - lr: 0.0010\n",
            "Epoch 8/20\n",
            "250/250 [==============================] - 1093s 4s/step - loss: 0.2733 - accuracy: 0.8892 - val_loss: 0.2907 - val_accuracy: 0.8712 - lr: 5.0000e-04\n",
            "Epoch 8: early stopping\n"
          ]
        }
      ],
      "source": [
        "history3 = model3.fit(train_gen, \n",
        "                    validation_data=valid_gen, epochs=20, \n",
        "                    callbacks=[callbacks])"
      ]
    },
    {
      "cell_type": "code",
      "execution_count": 270,
      "metadata": {},
      "outputs": [
        {
          "data": {
            "image/png": "[encoded data removed]",
            "text/plain": [
              "<Figure size 432x288 with 1 Axes>"
            ]
          },
          "metadata": {
            "needs_background": "light"
          },
          "output_type": "display_data"
        }
      ],
      "source": [
        "plt.plot(history3.history['accuracy'],label='Training accuracy')\n",
        "plt.plot(history3.history['val_accuracy'], label=\"val acc\")\n",
        "plt.xlabel('epochs')\n",
        "plt.ylabel('accuracy')\n",
        "plt.legend()\n",
        "plt.show()"
      ]
    },
    {
      "cell_type": "code",
      "execution_count": 271,
      "metadata": {},
      "outputs": [
        {
          "data": {
            "image/png": "[encoded data removed]",
            "text/plain": [
              "<Figure size 432x288 with 1 Axes>"
            ]
          },
          "metadata": {
            "needs_background": "light"
          },
          "output_type": "display_data"
        }
      ],
      "source": [
        "plt.plot(history3.history['loss'],label='Training loss')\n",
        "plt.plot(history3.history['val_loss'], label=\"val loss\")\n",
        "plt.xlabel('epochs')\n",
        "plt.ylabel('loss')\n",
        "plt.legend()\n",
        "plt.show()"
      ]
    },
    {
      "cell_type": "code",
      "execution_count": 273,
      "metadata": {},
      "outputs": [
        {
          "name": "stdout",
          "output_type": "stream",
          "text": [
            "7/7 [==============================] - 37s 5s/step - loss: 0.3277 - accuracy: 0.8675\n"
          ]
        },
        {
          "data": {
            "text/plain": [
              "[0.32773643732070923, 0.8675000071525574]"
            ]
          },
          "execution_count": 273,
          "metadata": {},
          "output_type": "execute_result"
        }
      ],
      "source": [
        "model3.load_weights('./vggClassifier.h5')\n",
        "model3.evaluate(test_gen)"
      ]
    },
    {
      "cell_type": "code",
      "execution_count": 327,
      "metadata": {},
      "outputs": [
        {
          "name": "stdout",
          "output_type": "stream",
          "text": [
            "1/1 [==============================] - 0s 78ms/step\n",
            "1/1 [==============================] - 0s 79ms/step\n",
            "argmax: [0]\n",
            "origin: [[0.]]\n",
            "grt 0.5: [[0]]\n"
          ]
        }
      ],
      "source": [
        "from tensorflow.keras.preprocessing.image import load_img\n",
        "image = load_img( train_path+'MIDRC-RICORD-1C-440808-000018-8.403-0.png',target_size=(200,200,3))\n",
        "img= np.array(image)\n",
        "img = img.reshape(1,200,200,3)\n",
        "label = model3.predict(img)\n",
        "result = np.argmax(label, axis=1)\n",
        "result3 = (model3.predict(img) > 0.5).astype(\"int32\")\n",
        "print(f\"argmax: {result}\")\n",
        "print(f\"origin: {label}\")\n",
        "print(f\"grt 0.5: {result3}\")"
      ]
    },
    {
      "cell_type": "code",
      "execution_count": 326,
      "metadata": {},
      "outputs": [
        {
          "data": {
            "text/html": [
              "<div>\n",
              "<style scoped>\n",
              "    .dataframe tbody tr th:only-of-type {\n",
              "        vertical-align: middle;\n",
              "    }\n",
              "\n",
              "    .dataframe tbody tr th {\n",
              "        vertical-align: top;\n",
              "    }\n",
              "\n",
              "    .dataframe thead th {\n",
              "        text-align: right;\n",
              "    }\n",
              "</style>\n",
              "<table border=\"1\" class=\"dataframe\">\n",
              "  <thead>\n",
              "    <tr style=\"text-align: right;\">\n",
              "      <th></th>\n",
              "      <th>filename</th>\n",
              "      <th>class</th>\n",
              "    </tr>\n",
              "  </thead>\n",
              "  <tbody>\n",
              "    <tr>\n",
              "      <th>2398</th>\n",
              "      <td>MIDRC-RICORD-1C-440808-000018-8.403-0.png</td>\n",
              "      <td>positive</td>\n",
              "    </tr>\n",
              "    <tr>\n",
              "      <th>10971</th>\n",
              "      <td>1b4ccf65-5872-4694-b441-599471b7794a.png</td>\n",
              "      <td>negative</td>\n",
              "    </tr>\n",
              "    <tr>\n",
              "      <th>13464</th>\n",
              "      <td>a2018dbd-1979-452a-a629-b5230b69d259.png</td>\n",
              "      <td>negative</td>\n",
              "    </tr>\n",
              "    <tr>\n",
              "      <th>227</th>\n",
              "      <td>616f829f195d0cd856616586c7c35e_jumbo.jpeg</td>\n",
              "      <td>negative</td>\n",
              "    </tr>\n",
              "    <tr>\n",
              "      <th>23541</th>\n",
              "      <td>A389295-12-26-1900-NA-CHEST_AP_PORT-41358-3.00...</td>\n",
              "      <td>positive</td>\n",
              "    </tr>\n",
              "  </tbody>\n",
              "</table>\n",
              "</div>"
            ],
            "text/plain": [
              "                                                filename     class\n",
              "2398           MIDRC-RICORD-1C-440808-000018-8.403-0.png  positive\n",
              "10971           1b4ccf65-5872-4694-b441-599471b7794a.png  negative\n",
              "13464           a2018dbd-1979-452a-a629-b5230b69d259.png  negative\n",
              "227            616f829f195d0cd856616586c7c35e_jumbo.jpeg  negative\n",
              "23541  A389295-12-26-1900-NA-CHEST_AP_PORT-41358-3.00...  positive"
            ]
          },
          "execution_count": 326,
          "metadata": {},
          "output_type": "execute_result"
        }
      ],
      "source": [
        "train_df.sample(5)"
      ]
    }
  ],
  "metadata": {
    "colab": {
      "collapsed_sections": [],
      "name": "Untitled2.ipynb",
      "provenance": []
    },
    "kernelspec": {
      "display_name": "Python 3.10.6 ('env': venv)",
      "language": "python",
      "name": "python3"
    },
    "language_info": {
      "codemirror_mode": {
        "name": "ipython",
        "version": 3
      },
      "file_extension": ".py",
      "mimetype": "text/x-python",
      "name": "python",
      "nbconvert_exporter": "python",
      "pygments_lexer": "ipython3",
      "version": "3.10.6"
    },
    "vscode": {
      "interpreter": {
        "hash": "1f9b27478ea512e6dda5c021bc2c052bb7e6995223f6d1b6a41c8ebcb35b36e7"
      }
    }
  },
  "nbformat": 4,
  "nbformat_minor": 0
}
